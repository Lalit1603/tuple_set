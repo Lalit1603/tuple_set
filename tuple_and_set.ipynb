{
 "cells": [
  {
   "cell_type": "code",
   "execution_count": 12,
   "id": "c47da69f",
   "metadata": {},
   "outputs": [
    {
     "name": "stdout",
     "output_type": "stream",
     "text": [
      "(1, 2, 3, 4, 5) <class 'tuple'>\n"
     ]
    }
   ],
   "source": [
    "#1. Create a tuple with integers from 1 to 5.\n",
    "t1=tuple((range(1,6)))\n",
    "print(t1,type(t1))"
   ]
  },
  {
   "cell_type": "code",
   "execution_count": 13,
   "id": "865a9a48",
   "metadata": {},
   "outputs": [
    {
     "data": {
      "text/plain": [
       "3"
      ]
     },
     "execution_count": 13,
     "metadata": {},
     "output_type": "execute_result"
    }
   ],
   "source": [
    "# 2. Access the third element of a tuple.\n",
    "t1[2]"
   ]
  },
  {
   "cell_type": "code",
   "execution_count": 14,
   "id": "aaa1900c",
   "metadata": {},
   "outputs": [
    {
     "name": "stdout",
     "output_type": "stream",
     "text": [
      "Length of t1= (1, 2, 3, 4, 5) is 5\n"
     ]
    }
   ],
   "source": [
    "# 3. Find the length of a tuple without using the `len()` function.\n",
    "count=0\n",
    "for i in t1:\n",
    "    count+=1\n",
    "print(\"Length of t1=\",t1,\"is\",count)"
   ]
  },
  {
   "cell_type": "code",
   "execution_count": 17,
   "id": "79d3c6c5",
   "metadata": {},
   "outputs": [
    {
     "data": {
      "text/plain": [
       "2"
      ]
     },
     "execution_count": 17,
     "metadata": {},
     "output_type": "execute_result"
    }
   ],
   "source": [
    "# 4. Count the occurrences of an element in a tuple.\n",
    "def count_occurance(t1,a):\n",
    "    a= t1.count(a)\n",
    "    return a\n",
    "t1=(1,2,3,4,5,6,1,2)\n",
    "count_occurance(t1,1)"
   ]
  },
  {
   "cell_type": "code",
   "execution_count": 20,
   "id": "b56ae658",
   "metadata": {},
   "outputs": [
    {
     "data": {
      "text/plain": [
       "3"
      ]
     },
     "execution_count": 20,
     "metadata": {},
     "output_type": "execute_result"
    }
   ],
   "source": [
    "# 5. Find the index of the first occurrence of an element in a tuple.\n",
    "def count_occurance(t1,a=t1[1]):\n",
    "    a= t1.count(a)\n",
    "    return a\n",
    "t1=(2,2,3,4,5,6,1,2)\n",
    "count_occurance(t1)"
   ]
  },
  {
   "cell_type": "code",
   "execution_count": 23,
   "id": "71b68ea0",
   "metadata": {},
   "outputs": [
    {
     "name": "stdout",
     "output_type": "stream",
     "text": [
      "Element is exists in a tuple= 2\n"
     ]
    }
   ],
   "source": [
    "# 6. Check if an element exists in a tuple.\n",
    "def element_exits(t1,a):\n",
    "    for i in t1:\n",
    "        if i==a:\n",
    "            print(\"Element is exists in a tuple=\",a)\n",
    "            break\n",
    "        else:\n",
    "            print(\"Element is not exists in a tuple\")\n",
    "element_exits(t1,2)"
   ]
  },
  {
   "cell_type": "code",
   "execution_count": 24,
   "id": "42d74109",
   "metadata": {},
   "outputs": [
    {
     "data": {
      "text/plain": [
       "[2, 2, 3, 4, 5, 6, 1, 2]"
      ]
     },
     "execution_count": 24,
     "metadata": {},
     "output_type": "execute_result"
    }
   ],
   "source": [
    "# 7. Convert a tuple to a list.\n",
    "l1=list(t1)\n",
    "l1"
   ]
  },
  {
   "cell_type": "code",
   "execution_count": 26,
   "id": "bba0ee43",
   "metadata": {},
   "outputs": [
    {
     "data": {
      "text/plain": [
       "(2, 2, 3, 4, 5, 6, 1, 2)"
      ]
     },
     "execution_count": 26,
     "metadata": {},
     "output_type": "execute_result"
    }
   ],
   "source": [
    "# 8. Convert a list to a tuple.\n",
    "t1=tuple(l1)\n",
    "t1"
   ]
  },
  {
   "cell_type": "code",
   "execution_count": 29,
   "id": "84774915",
   "metadata": {},
   "outputs": [],
   "source": [
    "# 9. Unpack the elements of a tuple into variables.\n",
    "t1=(1,2,3)\n",
    "a,b,c=t1"
   ]
  },
  {
   "cell_type": "code",
   "execution_count": 30,
   "id": "a9d64b2c",
   "metadata": {},
   "outputs": [
    {
     "name": "stdout",
     "output_type": "stream",
     "text": [
      "1 2 3\n"
     ]
    }
   ],
   "source": [
    "print(a,b,c)"
   ]
  },
  {
   "cell_type": "code",
   "execution_count": 34,
   "id": "4db3d169",
   "metadata": {},
   "outputs": [
    {
     "name": "stdout",
     "output_type": "stream",
     "text": [
      "2\n",
      "4\n",
      "6\n",
      "8\n",
      "10\n"
     ]
    }
   ],
   "source": [
    "#10. Create a tuple of even numbers from 1 to 10.\n",
    "t1=(i for i in range(1,11) if i%2==0 )\n",
    "for i in  t1:\n",
    "    print(i)"
   ]
  },
  {
   "cell_type": "code",
   "execution_count": 32,
   "id": "08b6b193",
   "metadata": {},
   "outputs": [
    {
     "data": {
      "text/plain": [
       "<generator object <genexpr> at 0x000001F04161F1D0>"
      ]
     },
     "execution_count": 32,
     "metadata": {},
     "output_type": "execute_result"
    }
   ],
   "source": []
  },
  {
   "cell_type": "code",
   "execution_count": 36,
   "id": "f8476527",
   "metadata": {},
   "outputs": [
    {
     "name": "stdout",
     "output_type": "stream",
     "text": [
      "1\n",
      "3\n",
      "5\n",
      "7\n",
      "9\n"
     ]
    }
   ],
   "source": [
    "# 11. Create a tuple of odd numbers from 1 to 10.\n",
    "t2=(i for i in range(1,11) if i%2!=0 )\n",
    "for i in  t2:\n",
    "    print(i)"
   ]
  },
  {
   "cell_type": "code",
   "execution_count": 38,
   "id": "d3bcf28c",
   "metadata": {},
   "outputs": [
    {
     "data": {
      "text/plain": [
       "(1, 2, 3, 4, 5, 6)"
      ]
     },
     "execution_count": 38,
     "metadata": {},
     "output_type": "execute_result"
    }
   ],
   "source": [
    "#12. Concatenate two tuples.\n",
    "t1=(1,2,3)\n",
    "t2=(4,5,6)\n",
    "t3=t1+t2\n",
    "t3"
   ]
  },
  {
   "cell_type": "code",
   "execution_count": 41,
   "id": "656f2262",
   "metadata": {},
   "outputs": [
    {
     "name": "stdout",
     "output_type": "stream",
     "text": [
      "(1, 2, 3, 1, 2, 3, 1, 2, 3)\n"
     ]
    }
   ],
   "source": [
    "# 13. Repeat a tuple three times.\n",
    "print(t1*3)"
   ]
  },
  {
   "cell_type": "code",
   "execution_count": 44,
   "id": "dda5895a",
   "metadata": {},
   "outputs": [
    {
     "name": "stdout",
     "output_type": "stream",
     "text": [
      "Tuple is empty\n"
     ]
    }
   ],
   "source": [
    "# 14. Check if a tuple is empty.\n",
    "def check_tup(t1):\n",
    "    if len(t1)==0:\n",
    "        print(\"Tuple is empty\")\n",
    "t1=()\n",
    "check_tup(t1)"
   ]
  },
  {
   "cell_type": "code",
   "execution_count": 54,
   "id": "eebea6be",
   "metadata": {},
   "outputs": [
    {
     "name": "stdout",
     "output_type": "stream",
     "text": [
      "(1, 2, 3, (19, 2, 3), 4, 5, 6, (7, 8, 9), 11, 22, 33)\n"
     ]
    }
   ],
   "source": [
    "#15. Create a nested tuple\n",
    "t1=(1,2,3,(19,2,3),4,5,6,(7,8,9),11,22,33)\n",
    "print(t1)"
   ]
  },
  {
   "cell_type": "code",
   "execution_count": 58,
   "id": "553600fb",
   "metadata": {},
   "outputs": [
    {
     "name": "stdout",
     "output_type": "stream",
     "text": [
      "(1, 2, 3, (19, 2, 3), 4, 5, 6, (7, 8, 9), 11, 22, 33)\n",
      "(19, 2, 3)\n",
      "19\n"
     ]
    }
   ],
   "source": [
    "# 16. Access the first element of a nested tuple\n",
    "a=t1[3]\n",
    "b=a[0]\n",
    "print(t1)\n",
    "print(a)\n",
    "print(b)"
   ]
  },
  {
   "cell_type": "code",
   "execution_count": 63,
   "id": "d1880ef3",
   "metadata": {},
   "outputs": [
    {
     "name": "stdout",
     "output_type": "stream",
     "text": [
      "(1,) <class 'tuple'>\n"
     ]
    }
   ],
   "source": [
    "# 17. Create a tuple with a single element.\n",
    "t1=(1,)\n",
    "print(t1,type(t1))"
   ]
  },
  {
   "cell_type": "code",
   "execution_count": 77,
   "id": "9527f8e8",
   "metadata": {},
   "outputs": [
    {
     "name": "stdout",
     "output_type": "stream",
     "text": [
      "Both tuples are equal\n"
     ]
    }
   ],
   "source": [
    "# 18. Compare two tuples.\n",
    "def compare_2tuples(t1,t2):\n",
    "    if t1==t2:\n",
    "        print(\"Both tuples are equal\")\n",
    "    else:\n",
    "        print(\"Both tuples are not equal\")\n",
    "compare_2tuples((1,2,3),(1,2,3))"
   ]
  },
  {
   "cell_type": "code",
   "execution_count": 78,
   "id": "1daab62b",
   "metadata": {},
   "outputs": [
    {
     "data": {
      "text/plain": [
       "(1, 2, 3)"
      ]
     },
     "execution_count": 78,
     "metadata": {},
     "output_type": "execute_result"
    }
   ],
   "source": [
    "#19. Delete a tuple.\n",
    "t1"
   ]
  },
  {
   "cell_type": "code",
   "execution_count": 79,
   "id": "b41e9742",
   "metadata": {},
   "outputs": [],
   "source": [
    "del(t1)"
   ]
  },
  {
   "cell_type": "code",
   "execution_count": 84,
   "id": "eaaa3541",
   "metadata": {},
   "outputs": [
    {
     "name": "stdout",
     "output_type": "stream",
     "text": [
      "(2, 3, 4)\n",
      "(6, 5, 4, 3, 2, 1)\n"
     ]
    }
   ],
   "source": [
    "#20. Slice a tuple\n",
    "t1=(1,2,3,4,5,6)\n",
    "print(t1[1:4])\n",
    "print(t1[::-1])"
   ]
  },
  {
   "cell_type": "code",
   "execution_count": 96,
   "id": "4f823e71",
   "metadata": {},
   "outputs": [
    {
     "name": "stdout",
     "output_type": "stream",
     "text": [
      "222\n"
     ]
    }
   ],
   "source": [
    "# 21. Find the maximum value in a tuple\n",
    "t1=(11,22,33,44,55,66,222)\n",
    "print(max(t1))\n"
   ]
  },
  {
   "cell_type": "code",
   "execution_count": 97,
   "id": "50f4cfca",
   "metadata": {},
   "outputs": [
    {
     "data": {
      "text/plain": [
       "11"
      ]
     },
     "execution_count": 97,
     "metadata": {},
     "output_type": "execute_result"
    }
   ],
   "source": [
    "# 22. Find the minimum value in a tuple.\n",
    "min(t1)"
   ]
  },
  {
   "cell_type": "code",
   "execution_count": 127,
   "id": "a8a56e37",
   "metadata": {
    "scrolled": true
   },
   "outputs": [
    {
     "data": {
      "text/plain": [
       "('l', 'a', 'l', 'i', 't')"
      ]
     },
     "execution_count": 127,
     "metadata": {},
     "output_type": "execute_result"
    }
   ],
   "source": [
    "#23. Convert a string to a tuple of characters.\n",
    "s1=\"lalit\"\n",
    "t2=tuple(s1)\n",
    "t2"
   ]
  },
  {
   "cell_type": "code",
   "execution_count": 123,
   "id": "3abf465a",
   "metadata": {},
   "outputs": [
    {
     "name": "stdout",
     "output_type": "stream",
     "text": [
      "lalit <class 'str'>\n"
     ]
    }
   ],
   "source": [
    "#24. Convert a tuple of characters to a string.\n",
    "t1=('l','a','l','i','t')\n",
    "s1=\"\".join(t1)\n",
    "print(s1,type(s1))"
   ]
  },
  {
   "cell_type": "code",
   "execution_count": 129,
   "id": "b0264b51",
   "metadata": {},
   "outputs": [
    {
     "data": {
      "text/plain": [
       "(1,\n",
       " 2.3,\n",
       " 'lalit',\n",
       " True,\n",
       " (3+3j),\n",
       " False,\n",
       " 100,\n",
       " (2, 3, 3),\n",
       " [2, 2, 2],\n",
       " None,\n",
       " {1, 2, 31})"
      ]
     },
     "execution_count": 129,
     "metadata": {},
     "output_type": "execute_result"
    }
   ],
   "source": [
    "# 25. Create a tuple from multiple data types.\n",
    "t1=(1,2.3,\"lalit\",True,3+3j,False,100,(2,3,3),[2,2,2],None,{2,31,1})\n",
    "t1"
   ]
  },
  {
   "cell_type": "code",
   "execution_count": 130,
   "id": "fcb8c847",
   "metadata": {},
   "outputs": [
    {
     "name": "stdout",
     "output_type": "stream",
     "text": [
      "Tuples are not identical\n"
     ]
    }
   ],
   "source": [
    " #26. Check if two tuples are identical.\n",
    "t1=(1,2,3)\n",
    "t2=(2,3,4)\n",
    "if t1==t2:\n",
    "    print(\"Both tuples are identical\")\n",
    "else:\n",
    "    print(\"Tuples are not identical\")"
   ]
  },
  {
   "cell_type": "code",
   "execution_count": 137,
   "id": "b0bdb634",
   "metadata": {},
   "outputs": [
    {
     "name": "stdout",
     "output_type": "stream",
     "text": [
      "(1, 2, 2, 3, 4, 5, 9) <class 'tuple'>\n"
     ]
    }
   ],
   "source": [
    "# 27. Sort the elements of a tuple.\n",
    "t1=(9,1,3,4,2,5,2)\n",
    "l1=list(t1)\n",
    "l1.sort()\n",
    "t2=tuple(l1)\n",
    "print(t2,type(t2))"
   ]
  },
  {
   "cell_type": "code",
   "execution_count": 145,
   "id": "742b8770",
   "metadata": {},
   "outputs": [],
   "source": [
    "# 28. Convert a tuple of integers to a tuple of strings.\n",
    "t1=(1,2,3,4)\n",
    "t2=tuple(str(x) for x in t1)\n",
    "print(t2,type(t2))"
   ]
  },
  {
   "cell_type": "code",
   "execution_count": 155,
   "id": "1e49d215",
   "metadata": {},
   "outputs": [
    {
     "data": {
      "text/plain": [
       "(1, 2, 3, 4)"
      ]
     },
     "execution_count": 155,
     "metadata": {},
     "output_type": "execute_result"
    }
   ],
   "source": [
    "# 29. Convert a tuple of strings to a tuple of integers.\n",
    "t1=('1','2','3','4')\n",
    "t2=tuple(int(x) for x in t1)\n",
    "t2"
   ]
  },
  {
   "cell_type": "code",
   "execution_count": 156,
   "id": "e30fcbe8",
   "metadata": {},
   "outputs": [
    {
     "name": "stdout",
     "output_type": "stream",
     "text": [
      "(1, 2, 3, 4, 5, 6)\n"
     ]
    }
   ],
   "source": [
    "# 30. Merge two tuples.\n",
    "t1=(1,2,3)\n",
    "t2=(4,5,6)\n",
    "t3=t1+t2\n",
    "print(t3)"
   ]
  },
  {
   "cell_type": "code",
   "execution_count": 162,
   "id": "d6743f43",
   "metadata": {},
   "outputs": [],
   "source": [
    "# 31. Flatten a nested tuple."
   ]
  },
  {
   "cell_type": "code",
   "execution_count": 163,
   "id": "96aa3e4e",
   "metadata": {},
   "outputs": [
    {
     "name": "stdout",
     "output_type": "stream",
     "text": [
      "(2, 3, 5, 7, 11)\n"
     ]
    }
   ],
   "source": [
    "#32. Create a tuple of the first 5 prime numbers.\n",
    "def is_prime(n):\n",
    "    if n<2:\n",
    "        return False\n",
    "    for i in range(2,int(n**0.5) + 1):\n",
    "        if n%i==0:\n",
    "            return False\n",
    "    return True\n",
    "\n",
    "first_five_prime=tuple(num for num in range(1,20)if is_prime(num))[:5]\n",
    "print(first_five_prime)"
   ]
  },
  {
   "cell_type": "code",
   "execution_count": 167,
   "id": "395a0587",
   "metadata": {},
   "outputs": [
    {
     "name": "stdout",
     "output_type": "stream",
     "text": [
      "The Given tuple is palindrome\n"
     ]
    }
   ],
   "source": [
    "# 33. Check if a tuple is a palindrome.\n",
    "t1=(\"r\",\"a\",\"c\",\"e\",\"c\",\"a\",\"r\")\n",
    "if t1[::1]==t1[::-1]:\n",
    "    print(\"The Given tuple is palindrome\")\n",
    "else:\n",
    "    print(\"The Give tuple is not palindrome\")"
   ]
  },
  {
   "cell_type": "code",
   "execution_count": 171,
   "id": "3d87a1af",
   "metadata": {},
   "outputs": [
    {
     "data": {
      "text/plain": [
       "(1, 4, 9, 16, 25)"
      ]
     },
     "execution_count": 171,
     "metadata": {},
     "output_type": "execute_result"
    }
   ],
   "source": [
    "#34. Create a tuple of squares of numbers from 1 to 5.\n",
    "t1=tuple(i**2 for i in range(1,6))\n",
    "t1"
   ]
  },
  {
   "cell_type": "code",
   "execution_count": 173,
   "id": "8b3192af",
   "metadata": {},
   "outputs": [
    {
     "data": {
      "text/plain": [
       "(2, 4, 6)"
      ]
     },
     "execution_count": 173,
     "metadata": {},
     "output_type": "execute_result"
    }
   ],
   "source": [
    "# 35. Filter out all even numbers from a tuple.\n",
    "t2=(1,2,3,4,5,6,9)\n",
    "t1=tuple(i for i in t2 if i%2==0)\n",
    "t1"
   ]
  },
  {
   "cell_type": "code",
   "execution_count": 175,
   "id": "499578bf",
   "metadata": {},
   "outputs": [
    {
     "data": {
      "text/plain": [
       "(2, 4, 6, 8, 10, 12, 18)"
      ]
     },
     "execution_count": 175,
     "metadata": {},
     "output_type": "execute_result"
    }
   ],
   "source": [
    "# 36. Multiply all elements in a tuple by 2.\n",
    "t1=tuple(i*2 for i in t2 )\n",
    "t1"
   ]
  },
  {
   "cell_type": "code",
   "execution_count": 181,
   "id": "eb3df6c1",
   "metadata": {},
   "outputs": [
    {
     "name": "stdout",
     "output_type": "stream",
     "text": [
      "(7, 87, 55, 31, 26)\n"
     ]
    }
   ],
   "source": [
    "# 37. Create a tuple of random numbers.\n",
    "import random\n",
    "random_num=tuple(random.randint(1,100) for i in range(5))\n",
    "print(random_num)"
   ]
  },
  {
   "cell_type": "code",
   "execution_count": 192,
   "id": "ae206c9e",
   "metadata": {},
   "outputs": [
    {
     "name": "stdout",
     "output_type": "stream",
     "text": [
      "False\n"
     ]
    }
   ],
   "source": [
    "#38. Check if a tuple is sorted.\n",
    "t1=(7, 87, 55, 31, 26)\n",
    "for i in range(len(t1)-1):\n",
    "    if t1[i]>t1[i+1]:\n",
    "         pass\n",
    "    else:\n",
    "        print(\"False\")\n",
    "        break\n",
    "    "
   ]
  },
  {
   "cell_type": "code",
   "execution_count": 193,
   "id": "4b14fe58",
   "metadata": {},
   "outputs": [
    {
     "data": {
      "text/plain": [
       "[3, 4, 5, 6, 7, 1, 2]"
      ]
     },
     "execution_count": 193,
     "metadata": {},
     "output_type": "execute_result"
    }
   ],
   "source": [
    "# 39. Rotate a tuple to the left by `n` positions.\n",
    "def rotate_list(l1,n):\n",
    "    n=n%len(l1)\n",
    "    new_lst=l1[n:]+l1[:n]\n",
    "    return new_lst\n",
    "l1=[1,2,3,4,5,6,7]\n",
    "n=2\n",
    "rotate_list(l1,n)"
   ]
  },
  {
   "cell_type": "code",
   "execution_count": 194,
   "id": "a866f250",
   "metadata": {},
   "outputs": [
    {
     "data": {
      "text/plain": [
       "[6, 7, 1, 2, 3, 4, 5]"
      ]
     },
     "execution_count": 194,
     "metadata": {},
     "output_type": "execute_result"
    }
   ],
   "source": [
    "# 40. Rotate a tuple to the right by `n` positions.\n",
    "def rotate_list(l1,n):\n",
    "    n=n%len(l1)\n",
    "    new_lst=l1[-n:]+l1[:-n]\n",
    "    return new_lst\n",
    "l1=[1,2,3,4,5,6,7]\n",
    "n=2\n",
    "rotate_list(l1,n)"
   ]
  },
  {
   "cell_type": "code",
   "execution_count": 37,
   "id": "f9a7d763",
   "metadata": {},
   "outputs": [
    {
     "name": "stdout",
     "output_type": "stream",
     "text": [
      "1\n",
      "2\n",
      "3\n",
      "5\n",
      "8\n",
      "13\n",
      "21\n",
      "34\n"
     ]
    }
   ],
   "source": [
    "# 41. Create a tuple of the first 5 Fibonacci numbers.\n",
    "num=10\n",
    "n1,n2=0,1\n",
    "for i in range(2,num):\n",
    "    n3=n1+n2\n",
    "    n1=n2\n",
    "    n2=n3\n",
    "    print(n3)\n"
   ]
  },
  {
   "cell_type": "code",
   "execution_count": 10,
   "id": "5ecf2051",
   "metadata": {},
   "outputs": [
    {
     "name": "stdout",
     "output_type": "stream",
     "text": [
      "Enter a Value separated by space1 2 3 4\n",
      "('1', '2', '3', '4')\n"
     ]
    }
   ],
   "source": [
    "# 42. Create a tuple from user input.\n",
    "t1=tuple(input(\"Enter a Value separated by space\").split())\n",
    "print(t1)"
   ]
  },
  {
   "cell_type": "code",
   "execution_count": 16,
   "id": "11e6f2ba",
   "metadata": {},
   "outputs": [
    {
     "name": "stdout",
     "output_type": "stream",
     "text": [
      "(2, 1, 3, 4, 5)\n"
     ]
    }
   ],
   "source": [
    "# 43. Swap two elements in a tuple.\n",
    "t1=(1,2,3,4,5)\n",
    "l1=list(t1)\n",
    "\n",
    "l1[0],l1[1]=l1[1],l1[0]\n",
    "t2=tuple(l1)\n",
    "print(t2)"
   ]
  },
  {
   "cell_type": "code",
   "execution_count": 17,
   "id": "79648c4b",
   "metadata": {},
   "outputs": [
    {
     "name": "stdout",
     "output_type": "stream",
     "text": [
      "(5, 4, 3, 2, 1)\n"
     ]
    }
   ],
   "source": [
    "# 44. Reverse the elements of a tuple.\n",
    "print(t1[::-1])"
   ]
  },
  {
   "cell_type": "code",
   "execution_count": 18,
   "id": "1cc69a6b",
   "metadata": {},
   "outputs": [
    {
     "name": "stdout",
     "output_type": "stream",
     "text": [
      "[1, 4, 9, 16, 25, 36, 49, 64, 81, 100]\n"
     ]
    }
   ],
   "source": [
    "#45. Create a tuple of the first `n` powers of 2.\n",
    "l1=[i**2 for i in range(1,11)]\n",
    "print(l1)"
   ]
  },
  {
   "cell_type": "code",
   "execution_count": 27,
   "id": "84cfb753",
   "metadata": {},
   "outputs": [
    {
     "name": "stdout",
     "output_type": "stream",
     "text": [
      "Longest String in a tuple is fromDhule\n"
     ]
    }
   ],
   "source": [
    "# 46. Find the longest string in a tuple of strings.\n",
    "t1=(\"lalit\",\"ganesh\",\"borase\",\"fromDhule\")\n",
    "l1=[]\n",
    "for i in t1:\n",
    "    a=len(i)\n",
    "    l1.append(a)\n",
    "    b=max(l1)\n",
    "    c= l1.index(b)\n",
    "print(\"Longest String in a tuple is:-\",t1[c])\n",
    "    \n"
   ]
  },
  {
   "cell_type": "code",
   "execution_count": 28,
   "id": "f266d992",
   "metadata": {},
   "outputs": [
    {
     "name": "stdout",
     "output_type": "stream",
     "text": [
      "Longest String in a tuple is:- lalit\n"
     ]
    }
   ],
   "source": [
    "#47. Find the shortest string in a tuple of strings.\n",
    "t1=(\"lalit\",\"ganesh\",\"borase\",\"fromDhule\")\n",
    "l1=[]\n",
    "for i in t1:\n",
    "    a=len(i)\n",
    "    l1.append(a)\n",
    "    b=min(l1)\n",
    "    c= l1.index(b)\n",
    "print(\"Longest String in a tuple is:-\",t1[c])\n",
    "    \n"
   ]
  },
  {
   "cell_type": "code",
   "execution_count": 29,
   "id": "a6475616",
   "metadata": {},
   "outputs": [
    {
     "name": "stdout",
     "output_type": "stream",
     "text": [
      "[1, 3, 6, 10, 15]\n"
     ]
    }
   ],
   "source": [
    "#48. Create a tuple of the first `n` triangular numbers.\n",
    "l2=[]\n",
    "def triangular_numbers(n):\n",
    "    for i in range(1,n+1):\n",
    "        result=i*(i+1)//2\n",
    "        l2.append(result)\n",
    "    print(l2)\n",
    "triangular_numbers(5)\n",
    "        "
   ]
  },
  {
   "cell_type": "code",
   "execution_count": 32,
   "id": "e9c9c5fd",
   "metadata": {},
   "outputs": [
    {
     "name": "stdout",
     "output_type": "stream",
     "text": [
      "(1, 3, (1, 2, 3)) <class 'str'>\n",
      "Tuple contais another list as a subsequence\n"
     ]
    }
   ],
   "source": [
    "# 49. Check if a tuple contains another tuple as a subsequence.\n",
    "def check_sublist(l1):\n",
    "    \n",
    "    s1=str(l1)\n",
    "    print(s1,type(s1))\n",
    "    for i in s1:\n",
    "        a= s1.count(\"(\")\n",
    "    if a==2:\n",
    "        print(\"Tuple contais another list as a subsequence\")\n",
    "    else:\n",
    "        print(\"Tuple not contains another subsequence\")\n",
    "l1=(1,3,(1,2,3))\n",
    "l2=(1,2,3)\n",
    "check_sublist(l1)"
   ]
  },
  {
   "cell_type": "code",
   "execution_count": 34,
   "id": "165161de",
   "metadata": {
    "scrolled": true
   },
   "outputs": [
    {
     "name": "stdout",
     "output_type": "stream",
     "text": [
      "Enter the lenght of tuple:-10\n",
      "(0, 1, 0, 1, 0, 1, 0, 1, 0, 1)\n"
     ]
    }
   ],
   "source": [
    "# 50. Create a tuple of alternating 1s and 0s of length `n`.\n",
    "n=int(input(\"Enter the lenght of tuple:-\"))\n",
    "alter_tuple=tuple((i%2) for i in range(n))\n",
    "print(alter_tuple)"
   ]
  },
  {
   "cell_type": "code",
   "execution_count": null,
   "id": "503e72ac",
   "metadata": {},
   "outputs": [],
   "source": []
  },
  {
   "cell_type": "code",
   "execution_count": null,
   "id": "cbf9c10d",
   "metadata": {},
   "outputs": [],
   "source": [
    "#assignment of set data type"
   ]
  },
  {
   "cell_type": "code",
   "execution_count": 5,
   "id": "043fae1b",
   "metadata": {},
   "outputs": [
    {
     "name": "stdout",
     "output_type": "stream",
     "text": [
      "{1, 2, 3, 4, 5} <class 'set'>\n"
     ]
    }
   ],
   "source": [
    "# 1. Create a set with integers from 1 to 5.\n",
    "s1=set((range(1,6)))\n",
    "print(s1,type(s1))"
   ]
  },
  {
   "cell_type": "code",
   "execution_count": 6,
   "id": "c15737ca",
   "metadata": {},
   "outputs": [
    {
     "name": "stdout",
     "output_type": "stream",
     "text": [
      "{1, 2, 3, 4, 5, 6}\n"
     ]
    }
   ],
   "source": [
    "#2. Add an element to a set.\n",
    "s1.add(6)\n",
    "print(s1)"
   ]
  },
  {
   "cell_type": "code",
   "execution_count": 8,
   "id": "256c3d5e",
   "metadata": {},
   "outputs": [
    {
     "name": "stdout",
     "output_type": "stream",
     "text": [
      "{1, 2, 3, 4, 5}\n"
     ]
    }
   ],
   "source": [
    "# 3. Remove an element from a set.\n",
    "s1.discard(6)\n",
    "print(s1)"
   ]
  },
  {
   "cell_type": "code",
   "execution_count": 9,
   "id": "af3c85f8",
   "metadata": {},
   "outputs": [
    {
     "data": {
      "text/plain": [
       "True"
      ]
     },
     "execution_count": 9,
     "metadata": {},
     "output_type": "execute_result"
    }
   ],
   "source": [
    "# 4. Check if an element exists in a set.\n",
    "n=5\n",
    "n in s1"
   ]
  },
  {
   "cell_type": "code",
   "execution_count": 12,
   "id": "68b1955b",
   "metadata": {},
   "outputs": [
    {
     "name": "stdout",
     "output_type": "stream",
     "text": [
      "5\n"
     ]
    }
   ],
   "source": [
    "#5. Find the length of a set without using the `len()` function.\n",
    "count=0\n",
    "for i in s1:\n",
    "    count+=1\n",
    "print(count)"
   ]
  },
  {
   "cell_type": "code",
   "execution_count": 15,
   "id": "3cdca06f",
   "metadata": {},
   "outputs": [
    {
     "name": "stdout",
     "output_type": "stream",
     "text": [
      "set()\n"
     ]
    }
   ],
   "source": [
    "# 6. Clear all elements from a set.\n",
    "s1.clear()\n",
    "print(s1)"
   ]
  },
  {
   "cell_type": "code",
   "execution_count": 17,
   "id": "f5c08bb5",
   "metadata": {},
   "outputs": [
    {
     "name": "stdout",
     "output_type": "stream",
     "text": [
      "{2, 4, 6, 8, 10} <class 'set'>\n"
     ]
    }
   ],
   "source": [
    "#7. Create a set of even numbers from 1 to 10.\n",
    "s1={i for i in range(1,11) if i%2==0}\n",
    "print(s1,type(s1))"
   ]
  },
  {
   "cell_type": "code",
   "execution_count": 19,
   "id": "634cf699",
   "metadata": {},
   "outputs": [
    {
     "name": "stdout",
     "output_type": "stream",
     "text": [
      "{1, 3, 5, 7, 9} <class 'set'>\n"
     ]
    }
   ],
   "source": [
    "#8. Create a set of odd numbers from 1 to 10.\n",
    "s1={i for i in range(1,11) if i%2!=0}\n",
    "print(s1,type(s1))"
   ]
  },
  {
   "cell_type": "code",
   "execution_count": 20,
   "id": "67d9eb94",
   "metadata": {},
   "outputs": [
    {
     "data": {
      "text/plain": [
       "{1, 2, 3, 4, 5}"
      ]
     },
     "execution_count": 20,
     "metadata": {},
     "output_type": "execute_result"
    }
   ],
   "source": [
    "#9. Find the union of two sets.\n",
    "s1={1,2,3}\n",
    "s2={3,4,5}\n",
    "s1.union(s2)"
   ]
  },
  {
   "cell_type": "code",
   "execution_count": 21,
   "id": "8f688322",
   "metadata": {},
   "outputs": [
    {
     "data": {
      "text/plain": [
       "{3}"
      ]
     },
     "execution_count": 21,
     "metadata": {},
     "output_type": "execute_result"
    }
   ],
   "source": [
    "#10. Find the intersection of two sets.\n",
    "s1={1,2,3}\n",
    "s2={3,4,5}\n",
    "s1.intersection(s2)"
   ]
  },
  {
   "cell_type": "code",
   "execution_count": 38,
   "id": "fd3b9efb",
   "metadata": {},
   "outputs": [
    {
     "name": "stdout",
     "output_type": "stream",
     "text": [
      "{1, 2}\n",
      "{1, 2}\n",
      "{6, 7}\n",
      "set()\n"
     ]
    }
   ],
   "source": [
    "# 11. Find the difference between two sets.\n",
    "set1={1,2,3,4,5}\n",
    "set2={3,4,5,6,7}\n",
    "diff1=set1-set2\n",
    "print(diff1)\n",
    "diff2=set1.difference(set2)\n",
    "print(diff2)\n",
    "\n",
    "diff3=set2-set1\n",
    "print(diff3)\n",
    "diff4=set2.difference(set2)\n",
    "print(diff4)"
   ]
  },
  {
   "cell_type": "code",
   "execution_count": 40,
   "id": "99b99ad7",
   "metadata": {},
   "outputs": [
    {
     "data": {
      "text/plain": [
       "True"
      ]
     },
     "execution_count": 40,
     "metadata": {},
     "output_type": "execute_result"
    }
   ],
   "source": [
    "#12. Check if a set is a subset of another set.\n",
    "set1={1,2,3,4,5,6,7,8,9,10}\n",
    "set2={1,2,3}\n",
    "set2.issubset(set1)\n"
   ]
  },
  {
   "cell_type": "code",
   "execution_count": 42,
   "id": "724bd3bd",
   "metadata": {},
   "outputs": [
    {
     "data": {
      "text/plain": [
       "True"
      ]
     },
     "execution_count": 42,
     "metadata": {},
     "output_type": "execute_result"
    }
   ],
   "source": [
    "#13. Check if a set is a superset of another set.\n",
    "set1={1,2,3,4,5,6,7,8,9,10}\n",
    "set2={1,2,3}\n",
    "set1.issuperset(set2)"
   ]
  },
  {
   "cell_type": "code",
   "execution_count": 46,
   "id": "49f11288",
   "metadata": {},
   "outputs": [
    {
     "name": "stdout",
     "output_type": "stream",
     "text": [
      "{1, 2, 3, 4, 5, 6, 220, 'lalit', 'borase'}\n"
     ]
    }
   ],
   "source": [
    "# 14. Create a set from a list.\n",
    "l1=[1,2,3,4,5,\"lalit\",\"borase\",5,6,1,2,220]\n",
    "s1=set(l1)\n",
    "print(s1)"
   ]
  },
  {
   "cell_type": "code",
   "execution_count": 48,
   "id": "e4ca4d55",
   "metadata": {},
   "outputs": [
    {
     "name": "stdout",
     "output_type": "stream",
     "text": [
      "[1, 2, 3, 4, 5, 6, 'borase', 'lalit', 220]\n"
     ]
    }
   ],
   "source": [
    "#15. Convert a set to a list.\n",
    "s1={1, 2, 3, 4, 5, 6, 220, 'lalit', 'borase'}\n",
    "l1=list(s1)\n",
    "print(l1)"
   ]
  },
  {
   "cell_type": "code",
   "execution_count": 49,
   "id": "db37617e",
   "metadata": {},
   "outputs": [
    {
     "name": "stdout",
     "output_type": "stream",
     "text": [
      "{1, 2, 3, 4, 5, 6, 'borase', 'lalit'}\n"
     ]
    }
   ],
   "source": [
    "# 16. Remove a random element from a set.\n",
    "s1.remove(220)\n",
    "print(s1)"
   ]
  },
  {
   "cell_type": "code",
   "execution_count": 58,
   "id": "0acc12b4",
   "metadata": {},
   "outputs": [
    {
     "name": "stdout",
     "output_type": "stream",
     "text": [
      "{2, 3, 4, 5, 6, 45}\n",
      "{3, 4, 5, 6, 45}\n"
     ]
    }
   ],
   "source": [
    "#17. Pop an element from a set.\n",
    "s1={1,2,3,4,45,5,6,2,5}\n",
    "s1.pop()\n",
    "print(s1)\n",
    "s1.pop()\n",
    "print(s1)"
   ]
  },
  {
   "cell_type": "code",
   "execution_count": 60,
   "id": "144d6d71",
   "metadata": {},
   "outputs": [
    {
     "data": {
      "text/plain": [
       "True"
      ]
     },
     "execution_count": 60,
     "metadata": {},
     "output_type": "execute_result"
    }
   ],
   "source": [
    "#18. Check if two sets have no elements in common.\n",
    "s1={1,2,3,4,5}\n",
    "s2={5,6,7,8,9,10}\n",
    "s1.isdisjoint(s2)\n",
    "s3={1,2,3}\n",
    "s4={11,22,33}\n",
    "s3.isdisjoint(s4)"
   ]
  },
  {
   "cell_type": "code",
   "execution_count": 62,
   "id": "f9ffca87",
   "metadata": {},
   "outputs": [
    {
     "data": {
      "text/plain": [
       "{1, 2, 3, 4, 6, 7, 8, 9, 10}"
      ]
     },
     "execution_count": 62,
     "metadata": {},
     "output_type": "execute_result"
    }
   ],
   "source": [
    "#19. Find the symmetric difference between two sets.\n",
    "s2.symmetric_difference(s1)"
   ]
  },
  {
   "cell_type": "code",
   "execution_count": 70,
   "id": "c49769ae",
   "metadata": {},
   "outputs": [
    {
     "name": "stdout",
     "output_type": "stream",
     "text": [
      "{1, 2, 3, 4, 5}\n"
     ]
    }
   ],
   "source": [
    "# 20. Update a set with elements from another set.\n",
    "s1={1,2,3}\n",
    "s2={3,4,5}\n",
    "s1.update(s2)\n",
    "print(s1)"
   ]
  },
  {
   "cell_type": "code",
   "execution_count": 75,
   "id": "21835ea7",
   "metadata": {},
   "outputs": [
    {
     "name": "stdout",
     "output_type": "stream",
     "text": [
      "{2, 3, 5, 7, 11}\n"
     ]
    }
   ],
   "source": [
    "# 21. Create a set of the first 5 prime numbers.\n",
    "def num_prime(n):\n",
    "    if n<2:\n",
    "        return False\n",
    "    for i in range(2,int(n**0.5)+1):\n",
    "        if n%i==0:\n",
    "            return False\n",
    "    return True\n",
    "\n",
    "first_five_prime=tuple(num for num in range(1,20) if num_prime(num))[:5]\n",
    "s1=set(first_five_prime)\n",
    "print(s1)"
   ]
  },
  {
   "cell_type": "code",
   "execution_count": 77,
   "id": "243c838f",
   "metadata": {},
   "outputs": [],
   "source": [
    "#22. Check if two sets are identical.\n",
    "s1={1,2,3}\n",
    "s2={1,2,3,4}\n",
    "if s1==s2:\n",
    "    print(\"Both sets are identical\")\n",
    "else:\n",
    "    print(\"Both sets are not identical\")"
   ]
  },
  {
   "cell_type": "code",
   "execution_count": 78,
   "id": "dc1ab2b0",
   "metadata": {},
   "outputs": [
    {
     "name": "stdout",
     "output_type": "stream",
     "text": [
      "frozenset({1, 2, 3, 4, 5, 6})\n"
     ]
    }
   ],
   "source": [
    "#23. Create a frozen set.\n",
    "s1={1,2,3,4,5,6}\n",
    "fs=frozenset(s1)\n",
    "print(fs)"
   ]
  },
  {
   "cell_type": "code",
   "execution_count": 87,
   "id": "c9cb6c5e",
   "metadata": {},
   "outputs": [
    {
     "data": {
      "text/plain": [
       "True"
      ]
     },
     "execution_count": 87,
     "metadata": {},
     "output_type": "execute_result"
    }
   ],
   "source": [
    "#24. Check if a set is disjoint with another set.\n",
    "def check_set_disjoint(s1,s2):\n",
    "    if s1.isdisjoint(s2):\n",
    "        return True\n",
    "    else:\n",
    "        return False\n",
    "s1={1,2,3} \n",
    "s2={4,5,6}\n",
    "check_set_disjoint(s1,s2)"
   ]
  },
  {
   "cell_type": "code",
   "execution_count": 89,
   "id": "090a7db4",
   "metadata": {},
   "outputs": [
    {
     "name": "stdout",
     "output_type": "stream",
     "text": [
      "{1, 4, 9, 16, 25}\n"
     ]
    }
   ],
   "source": [
    "#25. Create a set of squares of numbers from 1 to 5.\n",
    "s1={i**2 for i in range(1,6)}\n",
    "print(s1)"
   ]
  },
  {
   "cell_type": "code",
   "execution_count": 92,
   "id": "07c541ff",
   "metadata": {},
   "outputs": [
    {
     "name": "stdout",
     "output_type": "stream",
     "text": [
      "{2, 4, 6}\n"
     ]
    }
   ],
   "source": [
    "# 26. Filter out all even numbers from a set.\n",
    "s1={1,2,3,4,5,6,7}\n",
    "s2=set()\n",
    "for i in s1:\n",
    "    if i%2==0:\n",
    "        s2.add(i)\n",
    "    else:pass\n",
    "print(s2)\n",
    "        "
   ]
  },
  {
   "cell_type": "code",
   "execution_count": null,
   "id": "dcd99f79",
   "metadata": {},
   "outputs": [],
   "source": [
    " \n",
    " \n",
    "\n",
    " \n",
    " \n",
    "\n",
    "\n",
    " \n",
    "\n",
    " \n",
    " \n",
    "\n",
    "\n",
    "\n",
    " \n",
    " \n",
    " \n",
    "\n",
    " \n",
    " \n",
    " \n",
    " \n",
    "\n",
    " \n",
    " \n"
   ]
  },
  {
   "cell_type": "code",
   "execution_count": 94,
   "id": "e25694a7",
   "metadata": {},
   "outputs": [
    {
     "name": "stdout",
     "output_type": "stream",
     "text": [
      "{2, 4, 6, 8, 10, 12, 14, 16, 18, 20}\n"
     ]
    }
   ],
   "source": [
    "#27. Multiply all elements in a set by 2.\n",
    "s1={1,2,3,4,5,6,7,8,9,10}\n",
    "s2={i*2 for i in s1}\n",
    "print(s2)"
   ]
  },
  {
   "cell_type": "code",
   "execution_count": 97,
   "id": "248c4a18",
   "metadata": {},
   "outputs": [
    {
     "name": "stdout",
     "output_type": "stream",
     "text": [
      "{137, 428, 273, 660, 506}\n"
     ]
    }
   ],
   "source": [
    "#28. Create a set of random numbers.\n",
    "import random\n",
    "random_num=set(random.randint(1,1000) for i in range(5))\n",
    "print(random_num)"
   ]
  },
  {
   "cell_type": "code",
   "execution_count": 99,
   "id": "099dcecc",
   "metadata": {},
   "outputs": [
    {
     "name": "stdout",
     "output_type": "stream",
     "text": [
      "Set is Empty\n"
     ]
    }
   ],
   "source": [
    "# 29. Check if a set is empty.\n",
    "def check_set_isEmpty(s1):\n",
    "    if len(s1)==0:\n",
    "        print(\"Set is Empty\")\n",
    "    else:\n",
    "        print(\"Set is not Empty\")\n",
    "s1={1,2,3,4}\n",
    "s2=set()\n",
    "check_set_isEmpty(s2)"
   ]
  },
  {
   "cell_type": "code",
   "execution_count": 103,
   "id": "88b4fc6f",
   "metadata": {},
   "outputs": [
    {
     "name": "stdout",
     "output_type": "stream",
     "text": [
      "frozenset({frozenset({1, 2, 3}), frozenset({'lalit', 'borase'})})\n"
     ]
    }
   ],
   "source": [
    "#30. Create a nested set (hint: use frozenset).\n",
    "nested_set=frozenset([\n",
    "    frozenset([1,2,3]),\n",
    "    frozenset(['lalit','borase']),\n",
    "])\n",
    "print(nested_set)"
   ]
  },
  {
   "cell_type": "code",
   "execution_count": 104,
   "id": "e888dc02",
   "metadata": {},
   "outputs": [
    {
     "name": "stdout",
     "output_type": "stream",
     "text": [
      "{1, 2, 3, 4, 5, 6, 7, 8, 9}\n"
     ]
    }
   ],
   "source": [
    "#31. Remove an element from a set using the discard method.\n",
    "s1={1,2,3,4,5,6,7,8,9,10}\n",
    "s1.discard(10)\n",
    "print(s1)"
   ]
  },
  {
   "cell_type": "code",
   "execution_count": 106,
   "id": "19fe5463",
   "metadata": {},
   "outputs": [
    {
     "name": "stdout",
     "output_type": "stream",
     "text": [
      "Both are don't identical\n"
     ]
    }
   ],
   "source": [
    "# 32. Compare two sets.\n",
    "s1={1,2,3}\n",
    "s2={4,5,6}\n",
    "if s1==s2:\n",
    "    print(\"Both are identical\")\n",
    "else:\n",
    "    print(\"Both are don't identical\")"
   ]
  },
  {
   "cell_type": "code",
   "execution_count": 111,
   "id": "a6a9853e",
   "metadata": {},
   "outputs": [
    {
     "name": "stdout",
     "output_type": "stream",
     "text": [
      "{'l', 't', 'L', 'i', 'a'}\n"
     ]
    }
   ],
   "source": [
    "#33. Create a set from a string.\n",
    "s1=\"Lalit\"\n",
    "s2=set(s1)\n",
    "print(s2)"
   ]
  },
  {
   "cell_type": "code",
   "execution_count": 115,
   "id": "3956faf9",
   "metadata": {},
   "outputs": [
    {
     "name": "stdout",
     "output_type": "stream",
     "text": [
      "{1, 2, 3, 4, 5}\n"
     ]
    }
   ],
   "source": [
    "# 34. Convert a set of strings to a set of integers.\n",
    "s1={'1','2','3','4','5'}\n",
    "s2={int(i) for i in s1}\n",
    "print(s2)"
   ]
  },
  {
   "cell_type": "code",
   "execution_count": 118,
   "id": "a4da5b26",
   "metadata": {},
   "outputs": [
    {
     "name": "stdout",
     "output_type": "stream",
     "text": [
      "{'5', '3', '2', '1', '4'}\n"
     ]
    }
   ],
   "source": [
    "#35. Convert a set of integers to a set of strings.\n",
    "s1={1,2,3,4,5}\n",
    "s2={str(i) for i in s1}\n",
    "print(s2)"
   ]
  },
  {
   "cell_type": "code",
   "execution_count": 120,
   "id": "c43e0ae6",
   "metadata": {},
   "outputs": [
    {
     "name": "stdout",
     "output_type": "stream",
     "text": [
      "{1, 2, 3, 4}\n"
     ]
    }
   ],
   "source": [
    "#36. Create a set from a tuple.\n",
    "t1=(1,2,3,4)\n",
    "s1=set(t1)\n",
    "print(s1)"
   ]
  },
  {
   "cell_type": "code",
   "execution_count": 122,
   "id": "20ee42fe",
   "metadata": {},
   "outputs": [
    {
     "name": "stdout",
     "output_type": "stream",
     "text": [
      "(1, 2, 3, 4, 5)\n"
     ]
    }
   ],
   "source": [
    "# 37. Convert a set to a tuple.\n",
    "s1={1,2,3,4,5}\n",
    "t1=tuple(s1)\n",
    "print(t1)"
   ]
  },
  {
   "cell_type": "code",
   "execution_count": 123,
   "id": "adc686f0",
   "metadata": {},
   "outputs": [
    {
     "name": "stdout",
     "output_type": "stream",
     "text": [
      "110\n"
     ]
    }
   ],
   "source": [
    "# 38. Find the maximum value in a set.\n",
    "s1={11,22,33,44,55,99,110}\n",
    "l1=list(s1)\n",
    "print(max(l1))"
   ]
  },
  {
   "cell_type": "code",
   "execution_count": 124,
   "id": "1042a24f",
   "metadata": {},
   "outputs": [
    {
     "name": "stdout",
     "output_type": "stream",
     "text": [
      "11\n"
     ]
    }
   ],
   "source": [
    "# 39. Find the minimum value in a set.\n",
    "s1={11,22,33,44,55,99,110}\n",
    "l1=list(s1)\n",
    "print(min(l1))"
   ]
  },
  {
   "cell_type": "code",
   "execution_count": 130,
   "id": "666080e0",
   "metadata": {},
   "outputs": [
    {
     "name": "stdout",
     "output_type": "stream",
     "text": [
      "11 22 33 44 44 55\n",
      "{'55', '11', '33', '44', '22'}\n"
     ]
    }
   ],
   "source": [
    "# 40. Create a set from user input.\n",
    "s1={i for i in input().split()}\n",
    "print(s1)"
   ]
  },
  {
   "cell_type": "code",
   "execution_count": 145,
   "id": "7fb366cb",
   "metadata": {},
   "outputs": [
    {
     "name": "stdout",
     "output_type": "stream",
     "text": [
      "Intersection of two sets are empty\n"
     ]
    }
   ],
   "source": [
    "#41. Check if the intersection of two sets is empty.\n",
    "s1={1,2,3}\n",
    "s2={4,5,6}\n",
    "a=s1.intersection(s2)\n",
    "if len(a)==0:\n",
    "    print(\"Intersection of two sets are empty\")\n",
    "else:\n",
    "    print(\"Intersection of two sets are not empty\")\n",
    "    "
   ]
  },
  {
   "cell_type": "code",
   "execution_count": 150,
   "id": "ccdf6f85",
   "metadata": {},
   "outputs": [
    {
     "name": "stdout",
     "output_type": "stream",
     "text": [
      "1 2 3 5 8 13 21 34 55 89 "
     ]
    }
   ],
   "source": [
    "#42. Create a set of the first 5 Fibonacci numbers.\n",
    "num=10\n",
    "a,b=0,1\n",
    "for i in range(0,10):\n",
    "    n3=a+b\n",
    "    a=b\n",
    "    b=n3\n",
    "    print(n3,end=' ')\n",
    "\n"
   ]
  },
  {
   "cell_type": "code",
   "execution_count": 151,
   "id": "d8e5c67b",
   "metadata": {},
   "outputs": [
    {
     "name": "stdout",
     "output_type": "stream",
     "text": [
      "[33, 66, 11, 44, 22, 55]\n"
     ]
    }
   ],
   "source": [
    "# 43. Remove duplicates from a list using sets.\n",
    "l1=[11,11,22,33,44,55,66,66]\n",
    "s1=set(l1)\n",
    "l2=list(s1)\n",
    "print(l2)\n"
   ]
  },
  {
   "cell_type": "code",
   "execution_count": 157,
   "id": "88afe1ad",
   "metadata": {},
   "outputs": [
    {
     "name": "stdout",
     "output_type": "stream",
     "text": [
      "The sets have the same elements\n"
     ]
    }
   ],
   "source": [
    "#44. Check if two sets have the same elements, regardless of their count.\n",
    "s1={1,2,3,4}\n",
    "s2={4,3,2,1}\n",
    "if s1==s2:\n",
    "    print(\"The sets have the same elements\")\n",
    "else:\n",
    "    print(\"The sets do not have the same elements\")"
   ]
  },
  {
   "cell_type": "code",
   "execution_count": 159,
   "id": "b07331bf",
   "metadata": {},
   "outputs": [
    {
     "name": "stdout",
     "output_type": "stream",
     "text": [
      "{64, 1, 4, 36, 9, 16, 49, 81, 25}\n"
     ]
    }
   ],
   "source": [
    "#45. Create a set of the first `n` powers of 2.\n",
    "n=10\n",
    "s1=set(i**2 for i  in range(1,n))\n",
    "print(s1)"
   ]
  },
  {
   "cell_type": "code",
   "execution_count": 163,
   "id": "0b8b8ca6",
   "metadata": {},
   "outputs": [
    {
     "name": "stdout",
     "output_type": "stream",
     "text": [
      "Common Elements are 3\n",
      "Common Elements are 4\n"
     ]
    }
   ],
   "source": [
    "#46. Find the common elements between a set and a list.\n",
    "def common_elements(l1,l2):\n",
    "    for i in list1:\n",
    "        if i in list2:\n",
    "            print(\"Common Elements are\",i)\n",
    "set1={1,2,3,4}\n",
    "set2={3,4,5,6}\n",
    "list1=list(set1)\n",
    "list2=list(set2)\n",
    "common_elements(list1,list2)\n"
   ]
  },
  {
   "cell_type": "code",
   "execution_count": 168,
   "id": "c97742ae",
   "metadata": {},
   "outputs": [
    {
     "name": "stdout",
     "output_type": "stream",
     "text": [
      "{1, 3, 6, 10, 15}\n"
     ]
    }
   ],
   "source": [
    "#47. Create a set of the first `n` triangular numbers.\n",
    "s2=set()\n",
    "def triangular_numbers(n):\n",
    "    for i in range(1,n+1):\n",
    "        result=i*(i+1)//2\n",
    "        s2.add(result)\n",
    "    print(s2)\n",
    "triangular_numbers(5)"
   ]
  },
  {
   "cell_type": "code",
   "execution_count": 170,
   "id": "86ed5094",
   "metadata": {},
   "outputs": [
    {
     "name": "stdout",
     "output_type": "stream",
     "text": [
      "set2 is a subset of set1\n"
     ]
    }
   ],
   "source": [
    "#48. Check if a set contains another set as a subset.\n",
    "set1={1,2,3,4,5,6}\n",
    "set2={2,4}\n",
    "if set2.issubset(set1):\n",
    "    print(\"set2 is a subset of set1\")\n",
    "else:\n",
    "    print(\"set2 is not a subset of set1\")"
   ]
  },
  {
   "cell_type": "code",
   "execution_count": 171,
   "id": "c2370c79",
   "metadata": {},
   "outputs": [
    {
     "name": "stdout",
     "output_type": "stream",
     "text": [
      "Enter the lenght of set:-10\n",
      "{0, 1}\n"
     ]
    }
   ],
   "source": [
    "#49. Create a set of alternating 1s and 0s of length `n`.\n",
    "n=int(input(\"Enter the lenght of set:-\"))\n",
    "alter_set=set((i%2) for i in range(n))\n",
    "print(alter_set)"
   ]
  },
  {
   "cell_type": "code",
   "execution_count": 174,
   "id": "34606222",
   "metadata": {},
   "outputs": [
    {
     "name": "stdout",
     "output_type": "stream",
     "text": [
      "frozenset({frozenset({1, 2, 3}), frozenset({33, 11, 44, 22, 55}), frozenset({'lalit', 'borase'})})\n"
     ]
    }
   ],
   "source": [
    "# 50. Merge multiple sets into one.\n",
    "nested_set=frozenset([\n",
    "    frozenset([1,2,3]),\n",
    "    frozenset(['lalit','borase']),\n",
    "    frozenset([11,22,33,44,55])\n",
    "])\n",
    "print(nested_set)"
   ]
  },
  {
   "cell_type": "code",
   "execution_count": null,
   "id": "0dbd4d07",
   "metadata": {},
   "outputs": [],
   "source": []
  }
 ],
 "metadata": {
  "kernelspec": {
   "display_name": "Python 3 (ipykernel)",
   "language": "python",
   "name": "python3"
  },
  "language_info": {
   "codemirror_mode": {
    "name": "ipython",
    "version": 3
   },
   "file_extension": ".py",
   "mimetype": "text/x-python",
   "name": "python",
   "nbconvert_exporter": "python",
   "pygments_lexer": "ipython3",
   "version": "3.11.5"
  }
 },
 "nbformat": 4,
 "nbformat_minor": 5
}
